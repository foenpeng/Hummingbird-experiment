{
 "cells": [
  {
   "cell_type": "code",
   "execution_count": 29,
   "metadata": {
    "collapsed": false
   },
   "outputs": [
    {
     "name": "stdout",
     "output_type": "stream",
     "text": [
      "thread_1 initiated\n",
      "Program ends, goodbye!\n"
     ]
    }
   ],
   "source": [
    "import cv2\n",
    "from threading import Thread\n",
    "\n",
    "class webcam(Thread):\n",
    "    def __init__(self, threadID, name):\n",
    "        Thread.__init__(self)\n",
    "        self.threadID = threadID\n",
    "        self.threadname = name\n",
    "        print('{} initiated'.format(self.threadname))\n",
    "    \n",
    "    def begin(self):\n",
    "        self.anima_pr = False;\n",
    "        self.cam = cv2.VideoCapture(1)\n",
    "\n",
    "    def imgdiff(self, img1,img2):\n",
    "        t1 = cv2.cvtColor(img1, cv2.COLOR_RGB2GRAY)\n",
    "        t2 = cv2.cvtColor(img2, cv2.COLOR_RGB2GRAY)\n",
    "        return cv2.absdiff(t1,t2)\n",
    "    \n",
    "    def run(self):\n",
    "        self.begin()       \n",
    "        while True:\n",
    "            re1,img1 = self.cam.read()\n",
    "            ret2,img2 = self.cam.read()\n",
    "            cv2.imshow('bird cam', self.imgdiff(img1, img2))\n",
    "            if cv2.waitKey(1) == 27: \n",
    "                break  # esc to quit\n",
    "        cv2.destroyAllWindows()\n",
    "        \n",
    "\n",
    "\n",
    "def main():\n",
    "    video = webcam(1,'thread_1');\n",
    "    video.start()\n",
    "    video.join()\n",
    "    print(\"Program ends, goodbye!\")\n",
    "\n",
    "if __name__ == '__main__':\n",
    "    main()"
   ]
  }
 ],
 "metadata": {
  "kernelspec": {
   "display_name": "Python 3",
   "language": "python",
   "name": "python3"
  },
  "language_info": {
   "codemirror_mode": {
    "name": "ipython",
    "version": 3
   },
   "file_extension": ".py",
   "mimetype": "text/x-python",
   "name": "python",
   "nbconvert_exporter": "python",
   "pygments_lexer": "ipython3",
   "version": "3.6.0"
  }
 },
 "nbformat": 4,
 "nbformat_minor": 2
}
